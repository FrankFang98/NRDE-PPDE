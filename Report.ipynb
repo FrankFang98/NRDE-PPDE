{
 "cells": [
  {
   "cell_type": "markdown",
   "id": "e9a76792",
   "metadata": {},
   "source": [
    "# Report of Heat equation's experiment"
   ]
  },
  {
   "cell_type": "code",
   "execution_count": 8,
   "id": "90334ac5",
   "metadata": {},
   "outputs": [],
   "source": [
    "import torch\n",
    "import torch.nn as nn\n",
    "import numpy as np\n",
    "import argparse\n",
    "import tqdm\n",
    "import os\n",
    "import math\n",
    "import matplotlib.pyplot as plt\n",
    "import pathlib\n",
    "import sys\n",
    "from Solver.NRDE_Solver import PPDE_heat as PPDE_heat\n",
    "from Solver.options import Heat\n",
    "from pynvml import *"
   ]
  },
  {
   "cell_type": "markdown",
   "id": "a6d9f34d",
   "metadata": {},
   "source": [
    "## Set up the configuration of resulting model"
   ]
  },
  {
   "cell_type": "code",
   "execution_count": 39,
   "id": "6d4a63ba",
   "metadata": {},
   "outputs": [],
   "source": [
    "d=32\n",
    "d_red=True\n",
    "lstm_hid=9\n",
    "d_after=4\n",
    "mu=0.\n",
    "sigma=1.\n",
    "depth=2\n",
    "hidden=15\n",
    "ffn_hidden=30\n",
    "output=1\n",
    "num_layers=6\n",
    "odestep=0.05\n",
    "odesolver=\"midpoint\"\n",
    "withx=False\n",
    "ncdrift=False\n",
    "lag=10\n",
    "T=1.\n",
    "n_steps=100\n",
    "model_dir='numerical_results\\\\Heat Equation\\\\mart\\\\model_32.tar'"
   ]
  },
  {
   "cell_type": "markdown",
   "id": "475d9174",
   "metadata": {},
   "source": [
    "## Load the model"
   ]
  },
  {
   "cell_type": "code",
   "execution_count": 40,
   "id": "589881a3",
   "metadata": {},
   "outputs": [],
   "source": [
    "heat = Heat(lag=lag,T=T,n_steps=n_steps)\n",
    "model=PPDE_heat(d=d,d_red=d_red,lstm_hid=lstm_hid,d_after=d_after, mu=mu,sigma=sigma,depth=depth, hidden=hidden, ffn_hidden=ffn_hidden,output=output,num_layers=num_layers,odestep=odestep,odesolver=odesolver,withx=withx,ncdrift=ncdrift)\n",
    "state=torch.load(model_dir)"
   ]
  },
  {
   "cell_type": "code",
   "execution_count": 41,
   "id": "143547c5",
   "metadata": {},
   "outputs": [
    {
     "data": {
      "text/plain": [
       "PPDE_heat(\n",
       "  (dim_red): RNN(\n",
       "    (rnn): LSTM(32, 9, batch_first=True)\n",
       "    (ffn): Sequential(\n",
       "      (0): Linear(in_features=9, out_features=4, bias=True)\n",
       "      (1): Identity()\n",
       "    )\n",
       "  )\n",
       "  (f): NeuralRDE(\n",
       "    (initial_linear): Linear(in_features=5, out_features=15, bias=True)\n",
       "    (func): _NRDEFunc(\n",
       "      (net): Sequential(\n",
       "        (0): Linear(in_features=15, out_features=30, bias=True)\n",
       "        (1): ReLU()\n",
       "        (2): Linear(in_features=30, out_features=30, bias=True)\n",
       "        (3): ReLU()\n",
       "        (4): Linear(in_features=30, out_features=30, bias=True)\n",
       "        (5): ReLU()\n",
       "        (6): Linear(in_features=30, out_features=30, bias=True)\n",
       "        (7): ReLU()\n",
       "        (8): Linear(in_features=30, out_features=30, bias=True)\n",
       "        (9): ReLU()\n",
       "        (10): Linear(in_features=30, out_features=30, bias=True)\n",
       "        (11): Tanh()\n",
       "        (12): Linear(in_features=30, out_features=225, bias=True)\n",
       "      )\n",
       "    )\n",
       "    (final_linear): Linear(in_features=15, out_features=1, bias=True)\n",
       "  )\n",
       "  (dfdx): NeuralRDE(\n",
       "    (initial_linear): Linear(in_features=5, out_features=15, bias=True)\n",
       "    (func): _NRDEFunc(\n",
       "      (net): Sequential(\n",
       "        (0): Linear(in_features=15, out_features=30, bias=True)\n",
       "        (1): ReLU()\n",
       "        (2): Linear(in_features=30, out_features=30, bias=True)\n",
       "        (3): ReLU()\n",
       "        (4): Linear(in_features=30, out_features=30, bias=True)\n",
       "        (5): ReLU()\n",
       "        (6): Linear(in_features=30, out_features=30, bias=True)\n",
       "        (7): ReLU()\n",
       "        (8): Linear(in_features=30, out_features=30, bias=True)\n",
       "        (9): ReLU()\n",
       "        (10): Linear(in_features=30, out_features=30, bias=True)\n",
       "        (11): Tanh()\n",
       "        (12): Linear(in_features=30, out_features=225, bias=True)\n",
       "      )\n",
       "    )\n",
       "    (final_linear): Linear(in_features=15, out_features=32, bias=True)\n",
       "  )\n",
       ")"
      ]
     },
     "execution_count": 41,
     "metadata": {},
     "output_type": "execute_result"
    }
   ],
   "source": [
    "device=0\n",
    "model.load_state_dict(state[\"state\"])\n",
    "model.to(device)"
   ]
  },
  {
   "cell_type": "markdown",
   "id": "1cf33a99",
   "metadata": {},
   "source": [
    "## Generate some paths and plot against real solution."
   ]
  },
  {
   "cell_type": "code",
   "execution_count": 22,
   "id": "5c0359b4",
   "metadata": {},
   "outputs": [],
   "source": [
    "##Define the true solution of Heat equation with our specific final condition.\n",
    "def real_solu(d,t,x,T):\n",
    "    z=torch.sum(torch.sum(x,2),1)*0.01\n",
    "    y=torch.sum(x[:,-1,:],1)\n",
    "    return torch.square(z)+2*(T-t)*y*z+(d/3)*(T-t)**3+(T-t)**2*(y**2)\n",
    "\n",
    "##Generate X0\n",
    "def sample_x0(batch_size, dim, device):\n",
    "    \n",
    "    x=0.2*torch.rand(batch_size,dim,device=device)\n",
    "    y=torch.zeros(batch_size,dim,device=device)\n",
    "    return y"
   ]
  },
  {
   "cell_type": "code",
   "execution_count": 24,
   "id": "6088cead",
   "metadata": {},
   "outputs": [
    {
     "data": {
      "image/png": "[encoded data removed]",
      "text/plain": [
       "<Figure size 432x288 with 1 Axes>"
      ]
     },
     "metadata": {
      "needs_background": "light"
     },
     "output_type": "display_data"
    }
   ],
   "source": [
    "ts = torch.linspace(0,T,n_steps+1, device=device)\n",
    "x0 = sample_x0(5,d,device=device)\n",
    "with torch.no_grad():\n",
    "    if d_red==True:\n",
    "        x_copy,x,path_signature, _ =model.prepare_data(ts=ts,x0=x0,lag=lag,drop=False)\n",
    "    else:\n",
    "        x,path_signature, _ =model.prepare_data(ts=ts,x0=x0,lag=lag,drop=False)\n",
    "tx=ts[::lag].reshape(1,-1,1).repeat(5,1,1)\n",
    "x1=x[:,::lag,:]\n",
    "x1=torch.cat([tx,x1],2)\n",
    "pred_v=model.f((x1[:,0,:],path_signature))\n",
    "pred=np.zeros([5,11,1])\n",
    "true=np.zeros([5,11,1])\n",
    "for idx, t in enumerate(ts[::lag]):\n",
    "    pred[:,idx,:]=pred_v[:,idx,:].cpu().detach().numpy()\n",
    "    if d_red==True:\n",
    "        true[:,idx,:]=torch.squeeze(real_solu(d,t,x_copy[:,:(idx*lag)+1,:],T)).cpu().numpy().reshape((5,1))\n",
    "    else:\n",
    "        true[:,idx,:]=torch.squeeze(real_solu(d,t,x[:,:(idx*lag)+1,:],T)).cpu().numpy()\n",
    "        \n",
    "    \n",
    "fig, ax = plt.subplots()\n",
    "for i in range(5):\n",
    "    ax.plot(ts[::lag].cpu().numpy(), true[i,:,:], label=\"True\",marker='o',color=\"royalblue\")\n",
    "    ax.plot(ts[::lag].cpu().numpy(), pred[i,:,:], '-.', label=\"EL-NRDE\",marker='v',color=\"darkorange\")\n",
    "    \n",
    "ax.set_ylabel(r\"$u(t,X)$\",fontsize=15)\n",
    "ax.set_xlabel(\"t\",fontsize=15)\n",
    "    \n",
    "handles, labels = plt.gca().get_legend_handles_labels()\n",
    "by_label = dict(zip(labels, handles))\n",
    "ax.legend(by_label.values(), by_label.keys(),fontsize=12)\n",
    "fig_title=\"Heat\"+\"_\"+str(d)+\".png\""
   ]
  },
  {
   "cell_type": "markdown",
   "id": "2843b479",
   "metadata": {},
   "source": [
    "## Compute test metric"
   ]
  },
  {
   "cell_type": "code",
   "execution_count": 36,
   "id": "69658bf3",
   "metadata": {},
   "outputs": [
    {
     "name": "stdout",
     "output_type": "stream",
     "text": [
      "mean of abs err is 0.8428905944298858\n",
      "std of abs err is 0.04038704073136887\n",
      "mean of rel err is 0.007119793258295841\n",
      "std of rel err is 0.0006125344369196439\n"
     ]
    }
   ],
   "source": [
    "abs_error=np.zeros(10)\n",
    "rel_error=np.ones(10)\n",
    "test_num=100\n",
    "for k in range(10):\n",
    "    x0=sample_x0(test_num, d, device=device)\n",
    "    with torch.no_grad():\n",
    "        if d_red==True:\n",
    "            x_copy,x,path_signature, _ =model.prepare_data(ts=ts,x0=x0,lag=lag,drop=False)\n",
    "        else:\n",
    "            x,path_signature, _ =model.prepare_data(ts=ts,x0=x0,lag=lag,drop=False)\n",
    "    tx=ts[::lag].reshape(1,-1,1).repeat(test_num,1,1)\n",
    "    x1=x[:,::lag,:]\n",
    "    x1=torch.cat([tx,x1],2)\n",
    "    Y=model.f((x1[:,0,:],path_signature))\n",
    "    mc_pred=np.zeros(shape=(test_num,len(np.arange(0,101,lag)),1))\n",
    "    pred=np.zeros(shape=(test_num,len(np.arange(0,101,lag)),1))\n",
    "    for idx, t in enumerate(ts[::lag]):\n",
    "        pred[:,idx,:]=Y[:,idx,:].cpu().detach().numpy()\n",
    "        if d_red==True:\n",
    "            mc_pred[:,idx,:]=torch.unsqueeze(real_solu(d,t,x_copy[:,:(idx*lag)+1,:],T),1).cpu().numpy()\n",
    "        else:\n",
    "            mc_pred[:,idx,:]=torch.unsqueeze(real_solu(d,t,x[:,:(idx*lag)+1,:],T),1).cpu().numpy()\n",
    "    abs_err=np.sum(abs(pred-mc_pred))/(test_num*lag)\n",
    "    abs_error[k]=abs_err\n",
    "    rel_error[k]=abs_err/(np.sum(np.sum(mc_pred,axis=1))/test_num)\n",
    "print(\"mean of abs err is\",np.mean(abs_error))\n",
    "print(\"std of abs err is\",np.std(abs_error))\n",
    "print(\"mean of rel err is\",np.mean(rel_error))\n",
    "print(\"std of rel err is\",np.std(rel_error))"
   ]
  },
  {
   "cell_type": "code",
   "execution_count": null,
   "id": "06d8b7e4",
   "metadata": {},
   "outputs": [],
   "source": []
  }
 ],
 "metadata": {
  "kernelspec": {
   "display_name": "PPDE",
   "language": "python",
   "name": "ppde"
  },
  "language_info": {
   "codemirror_mode": {
    "name": "ipython",
    "version": 3
   },
   "file_extension": ".py",
   "mimetype": "text/x-python",
   "name": "python",
   "nbconvert_exporter": "python",
   "pygments_lexer": "ipython3",
   "version": "3.8.13"
  }
 },
 "nbformat": 4,
 "nbformat_minor": 5
}
